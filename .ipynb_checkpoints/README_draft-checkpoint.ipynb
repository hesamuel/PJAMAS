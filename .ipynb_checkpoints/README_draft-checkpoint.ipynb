{
 "cells": [
  {
   "cell_type": "markdown",
   "metadata": {},
   "source": [
    "<img src=\"./img/bot_cam.jpg\" align=\"center\" width=\"30%\" margin=\"0\" ></img> \n",
    "<br>\n",
    "\n",
    "\n",
    "# `PJ.A.M.A.S.`  `the photojournalism chatbot`\n",
    "\n",
    "`PJAMAS is a chatbot that helps photojournalism students tell better stories!`\n",
    "\n",
    "---\n",
    "\n",
    "## `WHY PJ.A.M.A.S. ?`\n",
    "PJ.A.M.A.S., or Photojournalism Assistance Made Available and Simple, is a chatbot borned out of a need to ~~automate the answering of repeated questions from my students~~ create a central portal for budding photojournalists to seek basic help for their photojournalism assignments. \n",
    "The chatbot is designed for short conversations(not more than 10 minutes should be spent on a conversation). If succinct answers can't be found on PY.J.A.M.A.S., a hyperlink to a blogpost, website will be provided. \n",
    "\n",
    "Try out the chatbot at this [link](https://pjamas-app.glitch.me/).\n",
    "\n",
    "## `UNDER THE PJ.A.M.A.S. !`\n",
    "We go under the hood to explore the different thought processes behind the P\n",
    "<img src=\"./img/a_readme_chatscreen1.png\" align=\"center\" width=\"65%\" margin=\"0\" ></img>\n",
    "\n",
    ">**Overcoming the limits of the medium** - One of the limitations in using a chatbot for mentoring is the user possibly viewing the bot as an inferior substitute to a physical mentor. One of the potential solutions to this is reduce uncited text statements, but whenever possible -- refer users to the work of respected photographers that they can learn from. \n",
    "\n",
    "<img src=\"./img/a_readme_map.png\" align=\"center\" width=\"90%\" margin=\"0\" ></img>\n",
    ">**Conversation-Mapping** - I used a tool called Whimsical to plan a map of the different conversations that will take place in our chatbot. \n",
    "\n",
    "\n",
    "\n",
    "## `TEAM PJ.A.M.A.S. THANKS _________ !`\n",
    "PYJAMAS was built on Glitch with the patient mentorship of [Charlotte Webb](https://oeb.global/programme/speakers/oeb-17/charlotte-webb)(Feminist Internet) and [Alex Fefegha](https://www.comuzi.xyz/index.html)(Comuzi).\n",
    "\n",
    "\n",
    "\n"
   ]
  },
  {
   "cell_type": "code",
   "execution_count": null,
   "metadata": {},
   "outputs": [],
   "source": []
  },
  {
   "cell_type": "code",
   "execution_count": null,
   "metadata": {},
   "outputs": [],
   "source": []
  }
 ],
 "metadata": {
  "kernelspec": {
   "display_name": "Python 3",
   "language": "python",
   "name": "python3"
  },
  "language_info": {
   "codemirror_mode": {
    "name": "ipython",
    "version": 3
   },
   "file_extension": ".py",
   "mimetype": "text/x-python",
   "name": "python",
   "nbconvert_exporter": "python",
   "pygments_lexer": "ipython3",
   "version": "3.7.7"
  }
 },
 "nbformat": 4,
 "nbformat_minor": 4
}
